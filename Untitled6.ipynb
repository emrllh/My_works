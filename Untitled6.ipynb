{
  "nbformat": 4,
  "nbformat_minor": 0,
  "metadata": {
    "colab": {
      "provenance": [],
      "authorship_tag": "ABX9TyPS86fXw2YiK4jF5lpljCBB",
      "include_colab_link": true
    },
    "kernelspec": {
      "name": "python3",
      "display_name": "Python 3"
    },
    "language_info": {
      "name": "python"
    }
  },
  "cells": [
    {
      "cell_type": "markdown",
      "metadata": {
        "id": "view-in-github",
        "colab_type": "text"
      },
      "source": [
        "<a href=\"https://colab.research.google.com/github/emrllh/My_works/blob/main/Untitled6.ipynb\" target=\"_parent\"><img src=\"https://colab.research.google.com/assets/colab-badge.svg\" alt=\"Open In Colab\"/></a>"
      ]
    },
    {
      "cell_type": "markdown",
      "source": [
        "#Avoiding Overfitting Through Regularization\n",
        "\n",
        "1. L1 and L2 Regularization  \n",
        "2. Dropout\n",
        "3. MC Dropout\n",
        "4. Max Norm\n",
        "\n",
        "\n",
        "\n",
        "\n"
      ],
      "metadata": {
        "id": "qHQltRxocei3"
      }
    },
    {
      "cell_type": "markdown",
      "source": [
        "### L1 and L2 Regularization"
      ],
      "metadata": {
        "id": "f5qN_EMScl5p"
      }
    },
    {
      "cell_type": "code",
      "source": [
        "import tensorflow as tf\n",
        "import keras\n",
        "import numpy as np\n",
        "import pandas as pd\n",
        "import matplotlib.pyplot as plt"
      ],
      "metadata": {
        "id": "rBIwLryieSII"
      },
      "execution_count": null,
      "outputs": []
    },
    {
      "cell_type": "code",
      "source": [
        "(X_train_full,y_train_full),(X_test,y_test)=keras.datasets.fashion_mnist.load_data()"
      ],
      "metadata": {
        "colab": {
          "base_uri": "https://localhost:8080/"
        },
        "id": "AOLmPQnBiTbR",
        "outputId": "2e3389dd-e34b-4296-8fc0-b112ca342b29"
      },
      "execution_count": null,
      "outputs": [
        {
          "output_type": "stream",
          "name": "stdout",
          "text": [
            "Downloading data from https://storage.googleapis.com/tensorflow/tf-keras-datasets/train-labels-idx1-ubyte.gz\n",
            "29515/29515 [==============================] - 0s 0us/step\n",
            "Downloading data from https://storage.googleapis.com/tensorflow/tf-keras-datasets/train-images-idx3-ubyte.gz\n",
            "26421880/26421880 [==============================] - 0s 0us/step\n",
            "Downloading data from https://storage.googleapis.com/tensorflow/tf-keras-datasets/t10k-labels-idx1-ubyte.gz\n",
            "5148/5148 [==============================] - 0s 0us/step\n",
            "Downloading data from https://storage.googleapis.com/tensorflow/tf-keras-datasets/t10k-images-idx3-ubyte.gz\n",
            "4422102/4422102 [==============================] - 0s 0us/step\n"
          ]
        }
      ]
    },
    {
      "cell_type": "code",
      "source": [
        "X_train,X_valid=X_train_full[:50000]/255.0,X_train_full[50000:]/255.0\n",
        "y_train,y_valid=y_train_full[:50000],y_train_full[50000:]\n",
        "X_test=X_test/255.0"
      ],
      "metadata": {
        "id": "6BMp7ttoioL0"
      },
      "execution_count": null,
      "outputs": []
    },
    {
      "cell_type": "code",
      "source": [
        "y_valid[0]"
      ],
      "metadata": {
        "colab": {
          "base_uri": "https://localhost:8080/"
        },
        "id": "jx-hrJ72kDJn",
        "outputId": "2f7fb9e8-0f08-4f0e-af7e-c42fe87d2be3"
      },
      "execution_count": null,
      "outputs": [
        {
          "output_type": "execute_result",
          "data": {
            "text/plain": [
              "9"
            ]
          },
          "metadata": {},
          "execution_count": 22
        }
      ]
    },
    {
      "cell_type": "code",
      "source": [
        "from functools import partial\n",
        "\n",
        "RegularizedDense = partial(tf.keras.layers.Dense,\n",
        "                           activation=\"relu\",\n",
        "                           kernel_initializer=\"he_normal\",\n",
        "                           kernel_regularizer=tf.keras.regularizers.l2(0.01))\n"
      ],
      "metadata": {
        "id": "7zbG37bwdbRY"
      },
      "execution_count": null,
      "outputs": []
    },
    {
      "cell_type": "markdown",
      "source": [
        "Or use l1(0.1) for ℓ1 regularization with a factor of 0.1, or l1_l2(0.1, 0.01) for both ℓ1 and ℓ2 regularization, with factors 0.1 and 0.01 respectively"
      ],
      "metadata": {
        "id": "BI4CYRRld6Pa"
      }
    },
    {
      "cell_type": "code",
      "source": [
        "from functools import partial\n",
        "\n",
        "tf.random.set_seed(42)\n",
        "\n",
        "RegularizedDense= partial(tf.keras.layers.Dense,\n",
        "                          activation='relu',\n",
        "                          kernel_initializer='he_normal',\n",
        "                          kernel_regularizer=tf.keras.regularizers.l2(0.01)\n",
        "                          )\n",
        "\n",
        "model=tf.keras.Sequential([\n",
        "    tf.keras.layers.Flatten(input_shape=[28,28]),\n",
        "    RegularizedDense(100),\n",
        "    RegularizedDense(100),\n",
        "    RegularizedDense(10, activation='softmax'),\n",
        "])\n"
      ],
      "metadata": {
        "id": "RERQ_YbCfQ9j"
      },
      "execution_count": null,
      "outputs": []
    },
    {
      "cell_type": "code",
      "source": [
        "optimizer=tf.keras.optimizers.SGD(learning_rate=0.02)\n",
        "\n",
        "model.compile(loss='sparse_categorical_crossentropy', optimizer=optimizer,\n",
        "              metrics=['accuracy'])\n",
        "\n",
        "history=model.fit(X_train,y_train, epochs=5,\n",
        "                  validation_data=(X_valid,y_valid))"
      ],
      "metadata": {
        "colab": {
          "base_uri": "https://localhost:8080/"
        },
        "id": "lT3J1x4affHN",
        "outputId": "4605d9fe-6ed3-482a-ba51-4f3068e0c6c0"
      },
      "execution_count": null,
      "outputs": [
        {
          "output_type": "stream",
          "name": "stdout",
          "text": [
            "Epoch 1/5\n",
            "1563/1563 [==============================] - 4s 2ms/step - loss: 0.6409 - accuracy: 0.7782 - val_loss: 0.4937 - val_accuracy: 0.8277\n",
            "Epoch 2/5\n",
            "1563/1563 [==============================] - 3s 2ms/step - loss: 0.4607 - accuracy: 0.8367 - val_loss: 0.4611 - val_accuracy: 0.8320\n",
            "Epoch 3/5\n",
            "1563/1563 [==============================] - 4s 2ms/step - loss: 0.4151 - accuracy: 0.8512 - val_loss: 0.4201 - val_accuracy: 0.8516\n",
            "Epoch 4/5\n",
            "1563/1563 [==============================] - 4s 2ms/step - loss: 0.3864 - accuracy: 0.8628 - val_loss: 0.4049 - val_accuracy: 0.8550\n",
            "Epoch 5/5\n",
            "1563/1563 [==============================] - 4s 2ms/step - loss: 0.3656 - accuracy: 0.8689 - val_loss: 0.4187 - val_accuracy: 0.8480\n"
          ]
        }
      ]
    },
    {
      "cell_type": "markdown",
      "source": [
        "### Dropout"
      ],
      "metadata": {
        "id": "5DMCG3uOjuCp"
      }
    },
    {
      "cell_type": "code",
      "source": [
        "tf.random.set_seed(42)\n",
        "\n",
        "model=tf.keras.Sequential([\n",
        "    tf.keras.layers.Flatten(input_shape=[28,28]),\n",
        "    tf.keras.layers.Dropout(rate=0.2),\n",
        "    tf.keras.layers.Dense(100,activation='relu',\n",
        "                          kernel_initializer='he_normal'),\n",
        "    tf.keras.layers.Dropout(rate=0.2),\n",
        "    tf.keras.layers.Dense(100,activation='relu',\n",
        "                          kernel_initializer='he_normal'),\n",
        "    tf.keras.layers.Dropout(rate=0.2),\n",
        "    tf.keras.layers.Dense(10,activation='softmax')\n",
        "\n",
        "])"
      ],
      "metadata": {
        "id": "cXnfWGNRoP9N"
      },
      "execution_count": null,
      "outputs": []
    },
    {
      "cell_type": "code",
      "source": [
        "optimizer=tf.keras.optimizers.SGD(learning_rate=0.01, momentum=0.9)\n",
        "\n",
        "model.compile(loss='sparse_categorical_crossentropy',optimizer=optimizer,\n",
        "              metrics=['accuracy'])"
      ],
      "metadata": {
        "id": "e2ZRWSdibNSV"
      },
      "execution_count": null,
      "outputs": []
    },
    {
      "cell_type": "code",
      "source": [
        "history=model.fit(X_train,y_train,epochs=15,\n",
        "                  validation_data=(X_valid,y_valid))"
      ],
      "metadata": {
        "colab": {
          "base_uri": "https://localhost:8080/"
        },
        "id": "OmT-lNBTqSCi",
        "outputId": "591cfaeb-c798-4acd-cba6-be3ec9b215d4"
      },
      "execution_count": null,
      "outputs": [
        {
          "output_type": "stream",
          "name": "stdout",
          "text": [
            "Epoch 1/15\n",
            "1563/1563 [==============================] - 6s 3ms/step - loss: 0.6896 - accuracy: 0.7473 - val_loss: 0.4707 - val_accuracy: 0.8300\n",
            "Epoch 2/15\n",
            "1563/1563 [==============================] - 6s 4ms/step - loss: 0.5151 - accuracy: 0.8118 - val_loss: 0.4211 - val_accuracy: 0.8478\n",
            "Epoch 3/15\n",
            "1563/1563 [==============================] - 5s 3ms/step - loss: 0.4823 - accuracy: 0.8234 - val_loss: 0.4002 - val_accuracy: 0.8529\n",
            "Epoch 4/15\n",
            "1563/1563 [==============================] - 5s 3ms/step - loss: 0.4596 - accuracy: 0.8296 - val_loss: 0.4097 - val_accuracy: 0.8401\n",
            "Epoch 5/15\n",
            "1563/1563 [==============================] - 6s 4ms/step - loss: 0.4387 - accuracy: 0.8381 - val_loss: 0.3829 - val_accuracy: 0.8594\n",
            "Epoch 6/15\n",
            "1563/1563 [==============================] - 5s 3ms/step - loss: 0.4282 - accuracy: 0.8433 - val_loss: 0.3993 - val_accuracy: 0.8491\n",
            "Epoch 7/15\n",
            "1563/1563 [==============================] - 6s 4ms/step - loss: 0.4209 - accuracy: 0.8436 - val_loss: 0.3953 - val_accuracy: 0.8487\n",
            "Epoch 8/15\n",
            "1563/1563 [==============================] - 5s 3ms/step - loss: 0.4099 - accuracy: 0.8495 - val_loss: 0.3530 - val_accuracy: 0.8734\n",
            "Epoch 9/15\n",
            "1563/1563 [==============================] - 5s 3ms/step - loss: 0.3991 - accuracy: 0.8529 - val_loss: 0.3534 - val_accuracy: 0.8692\n",
            "Epoch 10/15\n",
            "1563/1563 [==============================] - 6s 4ms/step - loss: 0.3979 - accuracy: 0.8524 - val_loss: 0.3550 - val_accuracy: 0.8694\n",
            "Epoch 11/15\n",
            "1563/1563 [==============================] - 5s 3ms/step - loss: 0.3890 - accuracy: 0.8556 - val_loss: 0.3420 - val_accuracy: 0.8739\n",
            "Epoch 12/15\n",
            "1563/1563 [==============================] - 5s 3ms/step - loss: 0.3900 - accuracy: 0.8570 - val_loss: 0.3430 - val_accuracy: 0.8724\n",
            "Epoch 13/15\n",
            "1563/1563 [==============================] - 5s 3ms/step - loss: 0.3842 - accuracy: 0.8569 - val_loss: 0.3433 - val_accuracy: 0.8744\n",
            "Epoch 14/15\n",
            "1563/1563 [==============================] - 5s 3ms/step - loss: 0.3792 - accuracy: 0.8592 - val_loss: 0.3434 - val_accuracy: 0.8725\n",
            "Epoch 15/15\n",
            "1563/1563 [==============================] - 6s 4ms/step - loss: 0.3724 - accuracy: 0.8609 - val_loss: 0.3369 - val_accuracy: 0.8783\n"
          ]
        }
      ]
    },
    {
      "cell_type": "markdown",
      "source": [
        "The training accuracy looks like it's lower than the validation accuracy, but that's just because dropout is only active during training. If we evaluate the model on the training set after training (i.e., with dropout turned off), we get the \"real\" training accuracy, which is very slightly higher than the validation accuracy and the test accuracy:"
      ],
      "metadata": {
        "id": "--F3z-VPrV8j"
      }
    },
    {
      "cell_type": "code",
      "source": [
        "model.evaluate(X_train,y_train)"
      ],
      "metadata": {
        "colab": {
          "base_uri": "https://localhost:8080/"
        },
        "id": "1i2IKmhzavFI",
        "outputId": "ffa2db50-32ce-4c63-9e22-11cf920f7e34"
      },
      "execution_count": null,
      "outputs": [
        {
          "output_type": "stream",
          "name": "stdout",
          "text": [
            "1563/1563 [==============================] - 4s 2ms/step - loss: 0.2913 - accuracy: 0.8916\n"
          ]
        },
        {
          "output_type": "execute_result",
          "data": {
            "text/plain": [
              "[0.2912813723087311, 0.8916199803352356]"
            ]
          },
          "metadata": {},
          "execution_count": 12
        }
      ]
    },
    {
      "cell_type": "code",
      "source": [
        "model.evaluate(X_test,y_test)"
      ],
      "metadata": {
        "colab": {
          "base_uri": "https://localhost:8080/"
        },
        "id": "njwiI0BDa2Ez",
        "outputId": "fe06cb9a-223c-408f-b95c-3d69997735fb"
      },
      "execution_count": null,
      "outputs": [
        {
          "output_type": "stream",
          "name": "stdout",
          "text": [
            "313/313 [==============================] - 1s 2ms/step - loss: 0.3583 - accuracy: 0.8677\n"
          ]
        },
        {
          "output_type": "execute_result",
          "data": {
            "text/plain": [
              "[0.35826289653778076, 0.8676999807357788]"
            ]
          },
          "metadata": {},
          "execution_count": 13
        }
      ]
    },
    {
      "cell_type": "markdown",
      "source": [
        "Note: make sure to use `AlfaDropout` instead of `Dropout` if you want to build a self-normalizing neural net using `SELU`."
      ],
      "metadata": {
        "id": "HfZF-hdecSHZ"
      }
    },
    {
      "cell_type": "markdown",
      "source": [
        "### MC Dropout"
      ],
      "metadata": {
        "id": "H9Fx3YMRcip4"
      }
    },
    {
      "cell_type": "code",
      "source": [
        "y_probas = np.stack([model(X_test, training=True)\n",
        "                     for sample in range(100)])"
      ],
      "metadata": {
        "id": "VVxeojATeUcF"
      },
      "execution_count": null,
      "outputs": []
    },
    {
      "cell_type": "code",
      "source": [
        "tf.random.set_seed(42)\n",
        "y_probas=np.stack([model(X_test,training=True) for sample in range(100)])\n",
        "y_probas.shape,X_test.shape\n"
      ],
      "metadata": {
        "colab": {
          "base_uri": "https://localhost:8080/"
        },
        "id": "HNxrlWtFd497",
        "outputId": "7b6598f1-bd19-48cb-e6fc-33a59229bf5f"
      },
      "execution_count": null,
      "outputs": [
        {
          "output_type": "execute_result",
          "data": {
            "text/plain": [
              "((100, 10000, 10), (10000, 28, 28))"
            ]
          },
          "metadata": {},
          "execution_count": 16
        }
      ]
    },
    {
      "cell_type": "code",
      "source": [
        "y_proba=y_probas.mean(axis=0)\n",
        "y_proba"
      ],
      "metadata": {
        "colab": {
          "base_uri": "https://localhost:8080/"
        },
        "id": "bKuhpHmTe6AN",
        "outputId": "9ca9b5a0-ba7a-4f04-9167-418ebd47c5d9"
      },
      "execution_count": null,
      "outputs": [
        {
          "output_type": "execute_result",
          "data": {
            "text/plain": [
              "array([[4.9172051e-04, 2.0725818e-04, 1.4942739e-04, ..., 1.4094278e-01,\n",
              "        9.3070423e-04, 8.0305582e-01],\n",
              "       [7.6556054e-04, 9.3677481e-06, 9.3398565e-01, ..., 9.5996563e-07,\n",
              "        2.8183791e-05, 2.9590863e-06],\n",
              "       [2.1512278e-05, 9.9975145e-01, 4.0346945e-06, ..., 2.0053508e-09,\n",
              "        1.3373514e-07, 6.5583192e-09],\n",
              "       ...,\n",
              "       [2.1891221e-03, 1.5594956e-05, 4.4174623e-04, ..., 8.8276072e-05,\n",
              "        9.9378240e-01, 1.8065244e-05],\n",
              "       [2.8802606e-05, 9.9048287e-01, 3.7987131e-05, ..., 1.3543557e-06,\n",
              "        4.2047029e-07, 3.3670003e-07],\n",
              "       [2.9330789e-03, 4.7085609e-04, 5.7213325e-03, ..., 9.8057121e-02,\n",
              "        1.4267991e-01, 3.7976140e-03]], dtype=float32)"
            ]
          },
          "metadata": {},
          "execution_count": 19
        }
      ]
    },
    {
      "cell_type": "code",
      "source": [
        "model.predict(X_test[:1]).round(3)"
      ],
      "metadata": {
        "colab": {
          "base_uri": "https://localhost:8080/"
        },
        "id": "G7IwYHsrgwhD",
        "outputId": "5be85bc9-c2ac-4c71-f664-e8202b6e63c2"
      },
      "execution_count": null,
      "outputs": [
        {
          "output_type": "stream",
          "name": "stdout",
          "text": [
            "1/1 [==============================] - 0s 89ms/step\n"
          ]
        },
        {
          "output_type": "execute_result",
          "data": {
            "text/plain": [
              "array([[0.   , 0.   , 0.   , 0.   , 0.   , 0.021, 0.   , 0.105, 0.   ,\n",
              "        0.874]], dtype=float32)"
            ]
          },
          "metadata": {},
          "execution_count": 20
        }
      ]
    },
    {
      "cell_type": "code",
      "source": [
        "y_proba[0].round(3)"
      ],
      "metadata": {
        "colab": {
          "base_uri": "https://localhost:8080/"
        },
        "id": "VaHq9y84hPaa",
        "outputId": "6559367e-6129-4ab4-834b-9e187bd4af44"
      },
      "execution_count": null,
      "outputs": [
        {
          "output_type": "execute_result",
          "data": {
            "text/plain": [
              "array([0.   , 0.   , 0.   , 0.001, 0.001, 0.051, 0.001, 0.141, 0.001,\n",
              "       0.803], dtype=float32)"
            ]
          },
          "metadata": {},
          "execution_count": 29
        }
      ]
    },
    {
      "cell_type": "code",
      "source": [
        "y_std=y_probas.std(axis=0)\n",
        "y_std[0].round(3)"
      ],
      "metadata": {
        "colab": {
          "base_uri": "https://localhost:8080/"
        },
        "id": "NrHpO922huqo",
        "outputId": "67cd84c7-b8b9-4661-f8ae-0ed00e1cebf2"
      },
      "execution_count": null,
      "outputs": [
        {
          "output_type": "execute_result",
          "data": {
            "text/plain": [
              "array([0.002, 0.001, 0.   , 0.005, 0.007, 0.077, 0.007, 0.125, 0.003,\n",
              "       0.151], dtype=float32)"
            ]
          },
          "metadata": {},
          "execution_count": 31
        }
      ]
    },
    {
      "cell_type": "code",
      "source": [
        "y_pred=y_proba.argmax(axis=1)\n",
        "accuracy = (y_pred==y_test).sum() / len(y_test)\n",
        "accuracy"
      ],
      "metadata": {
        "colab": {
          "base_uri": "https://localhost:8080/"
        },
        "id": "f2CDxVprkVXr",
        "outputId": "61488e08-1770-48c7-a66d-aea354af4877"
      },
      "execution_count": null,
      "outputs": [
        {
          "output_type": "execute_result",
          "data": {
            "text/plain": [
              "0.8669"
            ]
          },
          "metadata": {},
          "execution_count": 32
        }
      ]
    },
    {
      "cell_type": "code",
      "source": [
        "y_pred"
      ],
      "metadata": {
        "colab": {
          "base_uri": "https://localhost:8080/"
        },
        "id": "2CPgSwyBpMFm",
        "outputId": "ba8f970b-9048-4ef3-c3fd-324cbe03559e"
      },
      "execution_count": null,
      "outputs": [
        {
          "output_type": "execute_result",
          "data": {
            "text/plain": [
              "array([9, 2, 1, ..., 8, 1, 5])"
            ]
          },
          "metadata": {},
          "execution_count": 46
        }
      ]
    },
    {
      "cell_type": "code",
      "source": [
        "y_proba"
      ],
      "metadata": {
        "colab": {
          "base_uri": "https://localhost:8080/"
        },
        "id": "ql5yvyMFlRuX",
        "outputId": "c9bf2682-d052-4d63-8b38-f5f5dc48f4b4"
      },
      "execution_count": null,
      "outputs": [
        {
          "output_type": "execute_result",
          "data": {
            "text/plain": [
              "array([[4.9172051e-04, 2.0725818e-04, 1.4942739e-04, ..., 1.4094278e-01,\n",
              "        9.3070423e-04, 8.0305582e-01],\n",
              "       [7.6556054e-04, 9.3677481e-06, 9.3398565e-01, ..., 9.5996563e-07,\n",
              "        2.8183791e-05, 2.9590863e-06],\n",
              "       [2.1512278e-05, 9.9975145e-01, 4.0346945e-06, ..., 2.0053508e-09,\n",
              "        1.3373514e-07, 6.5583192e-09],\n",
              "       ...,\n",
              "       [2.1891221e-03, 1.5594956e-05, 4.4174623e-04, ..., 8.8276072e-05,\n",
              "        9.9378240e-01, 1.8065244e-05],\n",
              "       [2.8802606e-05, 9.9048287e-01, 3.7987131e-05, ..., 1.3543557e-06,\n",
              "        4.2047029e-07, 3.3670003e-07],\n",
              "       [2.9330789e-03, 4.7085609e-04, 5.7213325e-03, ..., 9.8057121e-02,\n",
              "        1.4267991e-01, 3.7976140e-03]], dtype=float32)"
            ]
          },
          "metadata": {},
          "execution_count": 43
        }
      ]
    },
    {
      "cell_type": "code",
      "source": [
        "y_proba.argmax(),y_proba.argmax(axis=1)"
      ],
      "metadata": {
        "colab": {
          "base_uri": "https://localhost:8080/"
        },
        "id": "t_ABpz2ekr8M",
        "outputId": "c74a6faa-5b48-4ffe-f08f-fb36fad99990"
      },
      "execution_count": null,
      "outputs": [
        {
          "output_type": "execute_result",
          "data": {
            "text/plain": [
              "(12895, array([9, 2, 1, ..., 8, 1, 5]))"
            ]
          },
          "metadata": {},
          "execution_count": 45
        }
      ]
    },
    {
      "cell_type": "code",
      "source": [
        "class MCDropout(tf.keras.layers.Dropout):\n",
        "  def call(self,input,training=None):\n",
        "    return super().call(inputs, training=True)\n"
      ],
      "metadata": {
        "id": "uA-lErbxplGc"
      },
      "execution_count": null,
      "outputs": []
    },
    {
      "cell_type": "code",
      "source": [
        "#how to convert Dropout to MCDropout in a Sequential model\n",
        "\n",
        "Dropout =tf.keras.layers.Dropout\n",
        "mc_model = tf.keras.Sequential([\n",
        "    MCDropout(layer.rate) if isinstance(layer, Dropout) else layer\n",
        "    for layer in model.layers\n",
        "])\n",
        "\n",
        "mc_model.set_weights(model.get_weights)"
      ],
      "metadata": {
        "colab": {
          "base_uri": "https://localhost:8080/",
          "height": 616
        },
        "id": "T3sVHSNZqJIw",
        "outputId": "5ad15f45-eeaa-44bb-ef9c-2ed7cf02cbd0"
      },
      "execution_count": null,
      "outputs": [
        {
          "output_type": "error",
          "ename": "NameError",
          "evalue": "Exception encountered when calling layer \"mc_dropout\" (type MCDropout).\n\nin user code:\n\n    File \"<ipython-input-47-e01b42038de2>\", line 3, in call  *\n        return super().call(inputs, training=True)\n\n    NameError: name 'inputs' is not defined\n\n\nCall arguments received by layer \"mc_dropout\" (type MCDropout):\n  • input=tf.Tensor(shape=(None, 784), dtype=float32)\n  • training=None",
          "traceback": [
            "\u001b[0;31m---------------------------------------------------------------------------\u001b[0m",
            "\u001b[0;31mNameError\u001b[0m                                 Traceback (most recent call last)",
            "\u001b[0;32m<ipython-input-48-da30600b6ae5>\u001b[0m in \u001b[0;36m<cell line: 4>\u001b[0;34m()\u001b[0m\n\u001b[1;32m      2\u001b[0m \u001b[0;34m\u001b[0m\u001b[0m\n\u001b[1;32m      3\u001b[0m \u001b[0mDropout\u001b[0m \u001b[0;34m=\u001b[0m\u001b[0mtf\u001b[0m\u001b[0;34m.\u001b[0m\u001b[0mkeras\u001b[0m\u001b[0;34m.\u001b[0m\u001b[0mlayers\u001b[0m\u001b[0;34m.\u001b[0m\u001b[0mDropout\u001b[0m\u001b[0;34m\u001b[0m\u001b[0;34m\u001b[0m\u001b[0m\n\u001b[0;32m----> 4\u001b[0;31m mc_model = tf.keras.Sequential([\n\u001b[0m\u001b[1;32m      5\u001b[0m     \u001b[0mMCDropout\u001b[0m\u001b[0;34m(\u001b[0m\u001b[0mlayer\u001b[0m\u001b[0;34m.\u001b[0m\u001b[0mrate\u001b[0m\u001b[0;34m)\u001b[0m \u001b[0;32mif\u001b[0m \u001b[0misinstance\u001b[0m\u001b[0;34m(\u001b[0m\u001b[0mlayer\u001b[0m\u001b[0;34m,\u001b[0m \u001b[0mDropout\u001b[0m\u001b[0;34m)\u001b[0m \u001b[0;32melse\u001b[0m \u001b[0mlayer\u001b[0m\u001b[0;34m\u001b[0m\u001b[0;34m\u001b[0m\u001b[0m\n\u001b[1;32m      6\u001b[0m     \u001b[0;32mfor\u001b[0m \u001b[0mlayer\u001b[0m \u001b[0;32min\u001b[0m \u001b[0mmodel\u001b[0m\u001b[0;34m.\u001b[0m\u001b[0mlayers\u001b[0m\u001b[0;34m\u001b[0m\u001b[0;34m\u001b[0m\u001b[0m\n",
            "\u001b[0;32m/usr/local/lib/python3.10/dist-packages/tensorflow/python/trackable/base.py\u001b[0m in \u001b[0;36m_method_wrapper\u001b[0;34m(self, *args, **kwargs)\u001b[0m\n\u001b[1;32m    202\u001b[0m     \u001b[0mself\u001b[0m\u001b[0;34m.\u001b[0m\u001b[0m_self_setattr_tracking\u001b[0m \u001b[0;34m=\u001b[0m \u001b[0;32mFalse\u001b[0m  \u001b[0;31m# pylint: disable=protected-access\u001b[0m\u001b[0;34m\u001b[0m\u001b[0;34m\u001b[0m\u001b[0m\n\u001b[1;32m    203\u001b[0m     \u001b[0;32mtry\u001b[0m\u001b[0;34m:\u001b[0m\u001b[0;34m\u001b[0m\u001b[0;34m\u001b[0m\u001b[0m\n\u001b[0;32m--> 204\u001b[0;31m       \u001b[0mresult\u001b[0m \u001b[0;34m=\u001b[0m \u001b[0mmethod\u001b[0m\u001b[0;34m(\u001b[0m\u001b[0mself\u001b[0m\u001b[0;34m,\u001b[0m \u001b[0;34m*\u001b[0m\u001b[0margs\u001b[0m\u001b[0;34m,\u001b[0m \u001b[0;34m**\u001b[0m\u001b[0mkwargs\u001b[0m\u001b[0;34m)\u001b[0m\u001b[0;34m\u001b[0m\u001b[0;34m\u001b[0m\u001b[0m\n\u001b[0m\u001b[1;32m    205\u001b[0m     \u001b[0;32mfinally\u001b[0m\u001b[0;34m:\u001b[0m\u001b[0;34m\u001b[0m\u001b[0;34m\u001b[0m\u001b[0m\n\u001b[1;32m    206\u001b[0m       \u001b[0mself\u001b[0m\u001b[0;34m.\u001b[0m\u001b[0m_self_setattr_tracking\u001b[0m \u001b[0;34m=\u001b[0m \u001b[0mprevious_value\u001b[0m  \u001b[0;31m# pylint: disable=protected-access\u001b[0m\u001b[0;34m\u001b[0m\u001b[0;34m\u001b[0m\u001b[0m\n",
            "\u001b[0;32m/usr/local/lib/python3.10/dist-packages/keras/src/utils/traceback_utils.py\u001b[0m in \u001b[0;36merror_handler\u001b[0;34m(*args, **kwargs)\u001b[0m\n\u001b[1;32m     68\u001b[0m             \u001b[0;31m# To get the full stack trace, call:\u001b[0m\u001b[0;34m\u001b[0m\u001b[0;34m\u001b[0m\u001b[0m\n\u001b[1;32m     69\u001b[0m             \u001b[0;31m# `tf.debugging.disable_traceback_filtering()`\u001b[0m\u001b[0;34m\u001b[0m\u001b[0;34m\u001b[0m\u001b[0m\n\u001b[0;32m---> 70\u001b[0;31m             \u001b[0;32mraise\u001b[0m \u001b[0me\u001b[0m\u001b[0;34m.\u001b[0m\u001b[0mwith_traceback\u001b[0m\u001b[0;34m(\u001b[0m\u001b[0mfiltered_tb\u001b[0m\u001b[0;34m)\u001b[0m \u001b[0;32mfrom\u001b[0m \u001b[0;32mNone\u001b[0m\u001b[0;34m\u001b[0m\u001b[0;34m\u001b[0m\u001b[0m\n\u001b[0m\u001b[1;32m     71\u001b[0m         \u001b[0;32mfinally\u001b[0m\u001b[0;34m:\u001b[0m\u001b[0;34m\u001b[0m\u001b[0;34m\u001b[0m\u001b[0m\n\u001b[1;32m     72\u001b[0m             \u001b[0;32mdel\u001b[0m \u001b[0mfiltered_tb\u001b[0m\u001b[0;34m\u001b[0m\u001b[0;34m\u001b[0m\u001b[0m\n",
            "\u001b[0;32m/tmp/__autograph_generated_filedj1biqt2.py\u001b[0m in \u001b[0;36mtf__call\u001b[0;34m(self, input, training)\u001b[0m\n\u001b[1;32m     11\u001b[0m                 \u001b[0;32mtry\u001b[0m\u001b[0;34m:\u001b[0m\u001b[0;34m\u001b[0m\u001b[0;34m\u001b[0m\u001b[0m\n\u001b[1;32m     12\u001b[0m                     \u001b[0mdo_return\u001b[0m \u001b[0;34m=\u001b[0m \u001b[0;32mTrue\u001b[0m\u001b[0;34m\u001b[0m\u001b[0;34m\u001b[0m\u001b[0m\n\u001b[0;32m---> 13\u001b[0;31m                     \u001b[0mretval_\u001b[0m \u001b[0;34m=\u001b[0m \u001b[0mag__\u001b[0m\u001b[0;34m.\u001b[0m\u001b[0mconverted_call\u001b[0m\u001b[0;34m(\u001b[0m\u001b[0mag__\u001b[0m\u001b[0;34m.\u001b[0m\u001b[0mconverted_call\u001b[0m\u001b[0;34m(\u001b[0m\u001b[0mag__\u001b[0m\u001b[0;34m.\u001b[0m\u001b[0mld\u001b[0m\u001b[0;34m(\u001b[0m\u001b[0msuper\u001b[0m\u001b[0;34m)\u001b[0m\u001b[0;34m,\u001b[0m \u001b[0;34m(\u001b[0m\u001b[0;34m)\u001b[0m\u001b[0;34m,\u001b[0m \u001b[0;32mNone\u001b[0m\u001b[0;34m,\u001b[0m \u001b[0mfscope\u001b[0m\u001b[0;34m)\u001b[0m\u001b[0;34m.\u001b[0m\u001b[0mcall\u001b[0m\u001b[0;34m,\u001b[0m \u001b[0;34m(\u001b[0m\u001b[0mag__\u001b[0m\u001b[0;34m.\u001b[0m\u001b[0mld\u001b[0m\u001b[0;34m(\u001b[0m\u001b[0minputs\u001b[0m\u001b[0;34m)\u001b[0m\u001b[0;34m,\u001b[0m\u001b[0;34m)\u001b[0m\u001b[0;34m,\u001b[0m \u001b[0mdict\u001b[0m\u001b[0;34m(\u001b[0m\u001b[0mtraining\u001b[0m\u001b[0;34m=\u001b[0m\u001b[0;32mTrue\u001b[0m\u001b[0;34m)\u001b[0m\u001b[0;34m,\u001b[0m \u001b[0mfscope\u001b[0m\u001b[0;34m)\u001b[0m\u001b[0;34m\u001b[0m\u001b[0;34m\u001b[0m\u001b[0m\n\u001b[0m\u001b[1;32m     14\u001b[0m                 \u001b[0;32mexcept\u001b[0m\u001b[0;34m:\u001b[0m\u001b[0;34m\u001b[0m\u001b[0;34m\u001b[0m\u001b[0m\n\u001b[1;32m     15\u001b[0m                     \u001b[0mdo_return\u001b[0m \u001b[0;34m=\u001b[0m \u001b[0;32mFalse\u001b[0m\u001b[0;34m\u001b[0m\u001b[0;34m\u001b[0m\u001b[0m\n",
            "\u001b[0;31mNameError\u001b[0m: Exception encountered when calling layer \"mc_dropout\" (type MCDropout).\n\nin user code:\n\n    File \"<ipython-input-47-e01b42038de2>\", line 3, in call  *\n        return super().call(inputs, training=True)\n\n    NameError: name 'inputs' is not defined\n\n\nCall arguments received by layer \"mc_dropout\" (type MCDropout):\n  • input=tf.Tensor(shape=(None, 784), dtype=float32)\n  • training=None"
          ]
        }
      ]
    },
    {
      "cell_type": "code",
      "source": [
        "x = np.arange(12).reshape((3,4))\n",
        "x"
      ],
      "metadata": {
        "colab": {
          "base_uri": "https://localhost:8080/"
        },
        "id": "a4qKwKqErHyj",
        "outputId": "12e0d2a2-60cf-4864-a322-b4a36c139d77"
      },
      "execution_count": null,
      "outputs": [
        {
          "output_type": "execute_result",
          "data": {
            "text/plain": [
              "array([[ 0,  1,  2,  3],\n",
              "       [ 4,  5,  6,  7],\n",
              "       [ 8,  9, 10, 11]])"
            ]
          },
          "metadata": {},
          "execution_count": 53
        }
      ]
    },
    {
      "cell_type": "code",
      "source": [
        "x.argmax(axis=0),x.argmax()"
      ],
      "metadata": {
        "colab": {
          "base_uri": "https://localhost:8080/"
        },
        "id": "VGnFVHxjtACT",
        "outputId": "94de2b95-3506-4600-b9cf-d2610babb263"
      },
      "execution_count": null,
      "outputs": [
        {
          "output_type": "execute_result",
          "data": {
            "text/plain": [
              "(array([2, 2, 2, 2]), 11)"
            ]
          },
          "metadata": {},
          "execution_count": 60
        }
      ]
    },
    {
      "cell_type": "markdown",
      "source": [
        "### Max Norm\n",
        "\n",
        "Weight constraints provide an approach to reduce the overfitting of a deep learning neural network model on the training data and improve the performance of the model on new data, such as the holdout test set.\n",
        "\n",
        "There are multiple types of weight constraints, such as maximum and unit vector norms, and some require a hyperparameter that must be configured.\n",
        "\n",
        "https://machinelearningmastery.com/how-to-reduce-overfitting-in-deep-neural-networks-with-weight-constraints-in-keras/"
      ],
      "metadata": {
        "id": "CAuVq6zHtHfS"
      }
    },
    {
      "cell_type": "code",
      "source": [
        "dense= tf.keras.layers.Dense(\n",
        "    100,activation='relu', kernel_initializer='he_normal',\n",
        "    kernel_constraint= tf.keras.constraints.max_norm(1.)\n",
        ")"
      ],
      "metadata": {
        "id": "MWH5n5QFmGrv"
      },
      "execution_count": null,
      "outputs": []
    },
    {
      "cell_type": "code",
      "source": [
        "#how to apply max norm to every hidden layer in a model\n",
        "MaxNormDense= partial(tf.keras.layers.Dense,\n",
        "                      activation='relu', kernel_initializer='he_normal',\n",
        "                      kernel_constraint=tf.keras.constraints.max_norm(1.)\n",
        "                      )\n",
        "\n",
        "tf.random.set_seed(42)\n",
        "\n",
        "model=tf.keras.Sequential([\n",
        "    tf.keras.layers.Flatten(input_shape=[28,28]),\n",
        "    MaxNormDense(100),\n",
        "    MaxNormDense(100),\n",
        "    tf.keras.layers.Dense(10, activation='softmax')\n",
        "])"
      ],
      "metadata": {
        "id": "K7lDhhN8mwnU"
      },
      "execution_count": null,
      "outputs": []
    },
    {
      "cell_type": "code",
      "source": [
        "optimizer=tf.keras.optimizers.SGD(learning_rate=0.01, momentum=0.9)\n",
        "\n",
        "model.compile(loss='sparse_categorical_crossentropy', optimizer=optimizer,\n",
        "              metrics=['accuracy']\n",
        "              )\n",
        "\n",
        "history= model.fit(X_train,y_train,epochs=10,\n",
        "                   validation_data=(X_valid,y_valid))"
      ],
      "metadata": {
        "colab": {
          "base_uri": "https://localhost:8080/"
        },
        "id": "s5uEvUPqocSj",
        "outputId": "769651de-2b8e-4957-9139-7fe8f7a5c834"
      },
      "execution_count": null,
      "outputs": [
        {
          "output_type": "stream",
          "name": "stdout",
          "text": [
            "Epoch 1/10\n",
            "1563/1563 [==============================] - 8s 5ms/step - loss: 0.5603 - accuracy: 0.7986 - val_loss: 0.4708 - val_accuracy: 0.8271\n",
            "Epoch 2/10\n",
            "1563/1563 [==============================] - 7s 5ms/step - loss: 0.4152 - accuracy: 0.8487 - val_loss: 0.4160 - val_accuracy: 0.8417\n",
            "Epoch 3/10\n",
            "1563/1563 [==============================] - 7s 4ms/step - loss: 0.3846 - accuracy: 0.8579 - val_loss: 0.3906 - val_accuracy: 0.8591\n",
            "Epoch 4/10\n",
            "1563/1563 [==============================] - 7s 4ms/step - loss: 0.3644 - accuracy: 0.8650 - val_loss: 0.3981 - val_accuracy: 0.8434\n",
            "Epoch 5/10\n",
            "1563/1563 [==============================] - 7s 4ms/step - loss: 0.3507 - accuracy: 0.8701 - val_loss: 0.3495 - val_accuracy: 0.8747\n",
            "Epoch 6/10\n",
            "1563/1563 [==============================] - 7s 5ms/step - loss: 0.3411 - accuracy: 0.8747 - val_loss: 0.3915 - val_accuracy: 0.8532\n",
            "Epoch 7/10\n",
            "1563/1563 [==============================] - 7s 4ms/step - loss: 0.3314 - accuracy: 0.8768 - val_loss: 0.3673 - val_accuracy: 0.8698\n",
            "Epoch 8/10\n",
            "1563/1563 [==============================] - 7s 5ms/step - loss: 0.3339 - accuracy: 0.8754 - val_loss: 0.3788 - val_accuracy: 0.8597\n",
            "Epoch 9/10\n",
            "1563/1563 [==============================] - 6s 4ms/step - loss: 0.3262 - accuracy: 0.8785 - val_loss: 0.3625 - val_accuracy: 0.8688\n",
            "Epoch 10/10\n",
            "1563/1563 [==============================] - 7s 5ms/step - loss: 0.3223 - accuracy: 0.8780 - val_loss: 0.3623 - val_accuracy: 0.8679\n"
          ]
        }
      ]
    },
    {
      "cell_type": "code",
      "source": [],
      "metadata": {
        "id": "2yVpgMnKqEV0"
      },
      "execution_count": null,
      "outputs": []
    }
  ]
}