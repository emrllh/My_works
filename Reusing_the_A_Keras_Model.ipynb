{
  "nbformat": 4,
  "nbformat_minor": 0,
  "metadata": {
    "colab": {
      "provenance": [],
      "authorship_tag": "ABX9TyMLRpIIbuMklivhloL8c/s0",
      "include_colab_link": true
    },
    "kernelspec": {
      "name": "python3",
      "display_name": "Python 3"
    },
    "language_info": {
      "name": "python"
    }
  },
  "cells": [
    {
      "cell_type": "markdown",
      "metadata": {
        "id": "view-in-github",
        "colab_type": "text"
      },
      "source": [
        "<a href=\"https://colab.research.google.com/github/emrllh/My_works/blob/main/Reusing_the_A_Keras_Model.ipynb\" target=\"_parent\"><img src=\"https://colab.research.google.com/assets/colab-badge.svg\" alt=\"Open In Colab\"/></a>"
      ]
    },
    {
      "cell_type": "markdown",
      "source": [
        "# Reusing the A Keras Model"
      ],
      "metadata": {
        "id": "H2aubXKYqjjH"
      }
    },
    {
      "cell_type": "markdown",
      "source": [
        "Reusing a Keras model\n",
        "Let's split the fashion MNIST training set in two:\n",
        "\n",
        "X_train_A: all images of all items except for T-shirts/tops and pullovers (classes 0 and 2).\n",
        "\n",
        "X_train_B: a much smaller training set of just the first 200 images of T-shirts/tops and pullovers.\n",
        "\n",
        "The validation set and the test set are also split this way, but without restricting the number of images.\n",
        "\n",
        "We will train a model on set A (classification task with 8 classes), and try to reuse it to tackle set B (binary classification).\n",
        "\n",
        " We hope to transfer a little bit of knowledge from task A to task B, since classes in set A (trousers, dresses, coats, sandals, shirts, sneakers, bags, and ankle boots) are somewhat similar to classes in set B (T-shirts/tops and pullovers). However, since we are using Dense layers, only patterns that occur at the same location can be reused.\n",
        "\n",
        "  (in contrast, convolutional layers will transfer much better, since learned patterns can be detected anywhere on the image, as we will see in the chapter 14)."
      ],
      "metadata": {
        "id": "vWjqGJzayPEH"
      }
    },
    {
      "cell_type": "code",
      "source": [
        "import keras\n",
        "import tensorflow as tf\n",
        "import numpy as np"
      ],
      "metadata": {
        "id": "Fm20TyP4qgQK"
      },
      "execution_count": null,
      "outputs": []
    },
    {
      "cell_type": "code",
      "execution_count": null,
      "metadata": {
        "id": "Haav_edfqRq1"
      },
      "outputs": [],
      "source": [
        "#load the Fasion Mnist Dataset\n",
        "(X_train_full,y_train_full),(X_test,y_test)=keras.datasets.fashion_mnist.load_data()"
      ]
    },
    {
      "cell_type": "code",
      "source": [
        "X_train,X_valid=X_train_full[:50000]/255,X_train_full[50000:]/255\n",
        "y_train,y_valid=y_train_full[:50000],y_train_full[50000:]\n",
        "X_test=X_test/255"
      ],
      "metadata": {
        "id": "XP_rpc-p3t66"
      },
      "execution_count": null,
      "outputs": []
    },
    {
      "cell_type": "code",
      "source": [
        "#Checking data shape\n",
        "X_train_full.shape,y_train_full.shape,X_test.shape,y_test.shape,X_valid.shape,y_valid.shape"
      ],
      "metadata": {
        "colab": {
          "base_uri": "https://localhost:8080/"
        },
        "id": "ZGFcVwma6a2z",
        "outputId": "757d6811-cf60-4713-bbd0-b8f584b8db60"
      },
      "execution_count": null,
      "outputs": [
        {
          "output_type": "execute_result",
          "data": {
            "text/plain": [
              "((60000, 28, 28),\n",
              " (60000,),\n",
              " (10000, 28, 28),\n",
              " (10000,),\n",
              " (10000, 28, 28),\n",
              " (10000,))"
            ]
          },
          "metadata": {},
          "execution_count": 32
        }
      ]
    },
    {
      "cell_type": "code",
      "source": [
        "class_names = [\"T-shirt/top\", \"Trouser\", \"Pullover\", \"Dress\", \"Coat\",\n",
        "               \"Sandal\", \"Shirt\", \"Sneaker\", \"Bag\", \"Ankle boot\"]"
      ],
      "metadata": {
        "id": "ibRxEfEKs53y"
      },
      "execution_count": null,
      "outputs": []
    },
    {
      "cell_type": "code",
      "source": [
        "pos_class_id = class_names.index(\"Pullover\")\n",
        "neg_class_id = class_names.index(\"T-shirt/top\")\n",
        "\n",
        "def split_dataset(X, y):\n",
        "    y_for_B = (y == pos_class_id) | (y == neg_class_id)\n",
        "    y_A = y[~y_for_B]\n",
        "    y_B = (y[y_for_B] == pos_class_id).astype(np.float32)\n",
        "    old_class_ids = list(set(range(10)) - set([neg_class_id, pos_class_id]))\n",
        "    for old_class_id, new_class_id in zip(old_class_ids, range(8)):\n",
        "        y_A[y_A == old_class_id] = new_class_id  # reorder class ids for A\n",
        "    return ((X[~y_for_B], y_A), (X[y_for_B], y_B))\n",
        "\n",
        "(X_train_A, y_train_A), (X_train_B, y_train_B) = split_dataset(X_train, y_train)\n",
        "(X_valid_A, y_valid_A), (X_valid_B, y_valid_B) = split_dataset(X_valid, y_valid)\n",
        "(X_test_A, y_test_A), (X_test_B, y_test_B) = split_dataset(X_test, y_test)\n",
        "X_train_B = X_train_B[:200]\n",
        "y_train_B = y_train_B[:200]"
      ],
      "metadata": {
        "id": "mR91HCRjFTwm"
      },
      "execution_count": null,
      "outputs": []
    },
    {
      "cell_type": "code",
      "source": [
        "#pos_class_id=class_names.index('Pullover')\n",
        "#neg_class_id=class_names.index('T-shirt/top')\n",
        "#pos_class_id,neg_class_id"
      ],
      "metadata": {
        "colab": {
          "base_uri": "https://localhost:8080/"
        },
        "id": "TI-mUydLxm3A",
        "outputId": "eb86459e-ca97-4a65-99e4-fbaf93404722"
      },
      "execution_count": null,
      "outputs": [
        {
          "output_type": "execute_result",
          "data": {
            "text/plain": [
              "(2, 0)"
            ]
          },
          "metadata": {},
          "execution_count": 6
        }
      ]
    },
    {
      "cell_type": "markdown",
      "source": [
        "def split_dataset(X,y):\n",
        "  y_for_B=(y==pos_class_id) | (y==neg_class_id)\n",
        "  y_A =y[~y_for_B]\n",
        "  y_B=(y[y_for_B]==pos_class_id).astype(np.float32)\n",
        "\n",
        "  old_class_ids=list(set(range(10))-set([neg_class_id,pos_class_id]))\n",
        "\n",
        "  for old_class_id,new_class_id in zip(old_class_ids,range(8)):\n",
        "    y_A[y_A==old_class_id]=new_class_id #reorder class ids for A\n",
        "    \n",
        "    return((X[~y_for_B],y_A),(X[y_for_B],y_B))"
      ],
      "metadata": {
        "id": "K38RXq6ExvYV"
      }
    },
    {
      "cell_type": "markdown",
      "source": [
        "(X_train_A,y_train_A),(X_train_B,y_train_B)=split_dataset(X_train,y_train)\n",
        "(X_valid_A,y_valid_A),(X_valid_B,y_valid_B)=split_dataset(X_valid,y_valid)\n",
        "(X_test_A,y_test_A),(X_test_B,y_test_B)=split_dataset(X_test,y_test)\n",
        "X_train_B=X_train_B[:200]\n",
        "y_train_B=y_train_B[:200]"
      ],
      "metadata": {
        "id": "8isz8qckzpwQ"
      }
    },
    {
      "cell_type": "code",
      "source": [
        "X_train_A.shape,X_valid_A.shape,y_train_A.shape,y_valid_A.shape"
      ],
      "metadata": {
        "colab": {
          "base_uri": "https://localhost:8080/"
        },
        "id": "xRWI3OlaKr4h",
        "outputId": "53a0438c-17de-4167-8467-9ff733a9755b"
      },
      "execution_count": null,
      "outputs": [
        {
          "output_type": "execute_result",
          "data": {
            "text/plain": [
              "((40031, 28, 28), (7969, 28, 28), (40031,), (7969,))"
            ]
          },
          "metadata": {},
          "execution_count": 35
        }
      ]
    },
    {
      "cell_type": "code",
      "source": [
        "\n",
        "#creating a function for the model\n",
        "def create_model():\n",
        " #creating the model\n",
        " model=tf.keras.Sequential([tf.keras.layers.Flatten(input_shape=(28,28)),\n",
        "                            tf.keras.layers.Dense(100,activation='relu',kernel_initializer=\"he_normal\"),\n",
        "                            tf.keras.layers.Dense(100,activation='relu',kernel_initializer=\"he_normal\"),\n",
        "                            tf.keras.layers.Dense(100,activation='relu',kernel_initializer=\"he_normal\"),\n",
        "                            tf.keras.layers.Dense(8,activation='softmax')\n",
        " ])\n",
        "\n",
        " #compile the model\n",
        " model.compile(loss='sparse_categorical_crossentropy',\n",
        "               optimizer=tf.keras.optimizers.SGD(learning_rate=0.001),\n",
        "               metrics=['accuracy'])\n",
        "\n",
        " return model"
      ],
      "metadata": {
        "id": "DIX-MGtYGFSz"
      },
      "execution_count": null,
      "outputs": []
    },
    {
      "cell_type": "code",
      "source": [
        "model_A=create_model()\n",
        "model_A.summary()"
      ],
      "metadata": {
        "colab": {
          "base_uri": "https://localhost:8080/"
        },
        "id": "N8Iy5t88IuKB",
        "outputId": "b559acac-e6b9-4586-d0c6-4aa62bee2da2"
      },
      "execution_count": null,
      "outputs": [
        {
          "output_type": "stream",
          "name": "stdout",
          "text": [
            "Model: \"sequential_5\"\n",
            "_________________________________________________________________\n",
            " Layer (type)                Output Shape              Param #   \n",
            "=================================================================\n",
            " flatten_5 (Flatten)         (None, 784)               0         \n",
            "                                                                 \n",
            " dense_20 (Dense)            (None, 100)               78500     \n",
            "                                                                 \n",
            " dense_21 (Dense)            (None, 100)               10100     \n",
            "                                                                 \n",
            " dense_22 (Dense)            (None, 100)               10100     \n",
            "                                                                 \n",
            " dense_23 (Dense)            (None, 8)                 808       \n",
            "                                                                 \n",
            "=================================================================\n",
            "Total params: 99508 (388.70 KB)\n",
            "Trainable params: 99508 (388.70 KB)\n",
            "Non-trainable params: 0 (0.00 Byte)\n",
            "_________________________________________________________________\n"
          ]
        }
      ]
    },
    {
      "cell_type": "code",
      "source": [
        "history = model_A.fit(X_train_A, y_train_A, epochs=20,\n",
        "                      validation_data=(X_valid_A, y_valid_A))"
      ],
      "metadata": {
        "colab": {
          "base_uri": "https://localhost:8080/"
        },
        "id": "a5dgtr2bNDwN",
        "outputId": "87ec77b7-3303-49be-a032-29cac4488246"
      },
      "execution_count": null,
      "outputs": [
        {
          "output_type": "stream",
          "name": "stdout",
          "text": [
            "Epoch 1/20\n",
            "1251/1251 [==============================] - 6s 4ms/step - loss: 1.1990 - accuracy: 0.6164 - val_loss: 0.7479 - val_accuracy: 0.7445\n",
            "Epoch 2/20\n",
            "1251/1251 [==============================] - 6s 5ms/step - loss: 0.6356 - accuracy: 0.7911 - val_loss: 0.5551 - val_accuracy: 0.8155\n",
            "Epoch 3/20\n",
            "1251/1251 [==============================] - 5s 4ms/step - loss: 0.5114 - accuracy: 0.8350 - val_loss: 0.4730 - val_accuracy: 0.8425\n",
            "Epoch 4/20\n",
            "1251/1251 [==============================] - 7s 5ms/step - loss: 0.4461 - accuracy: 0.8571 - val_loss: 0.4269 - val_accuracy: 0.8539\n",
            "Epoch 5/20\n",
            "1251/1251 [==============================] - 5s 4ms/step - loss: 0.4053 - accuracy: 0.8674 - val_loss: 0.3951 - val_accuracy: 0.8637\n",
            "Epoch 6/20\n",
            "1251/1251 [==============================] - 5s 4ms/step - loss: 0.3772 - accuracy: 0.8740 - val_loss: 0.3742 - val_accuracy: 0.8705\n",
            "Epoch 7/20\n",
            "1251/1251 [==============================] - 6s 5ms/step - loss: 0.3568 - accuracy: 0.8793 - val_loss: 0.3593 - val_accuracy: 0.8731\n",
            "Epoch 8/20\n",
            "1251/1251 [==============================] - 5s 4ms/step - loss: 0.3408 - accuracy: 0.8840 - val_loss: 0.3452 - val_accuracy: 0.8782\n",
            "Epoch 9/20\n",
            "1251/1251 [==============================] - 6s 5ms/step - loss: 0.3281 - accuracy: 0.8871 - val_loss: 0.3330 - val_accuracy: 0.8827\n",
            "Epoch 10/20\n",
            "1251/1251 [==============================] - 5s 4ms/step - loss: 0.3176 - accuracy: 0.8913 - val_loss: 0.3253 - val_accuracy: 0.8847\n",
            "Epoch 11/20\n",
            "1251/1251 [==============================] - 5s 4ms/step - loss: 0.3088 - accuracy: 0.8932 - val_loss: 0.3212 - val_accuracy: 0.8835\n",
            "Epoch 12/20\n",
            "1251/1251 [==============================] - 6s 5ms/step - loss: 0.3016 - accuracy: 0.8946 - val_loss: 0.3134 - val_accuracy: 0.8888\n",
            "Epoch 13/20\n",
            "1251/1251 [==============================] - 5s 4ms/step - loss: 0.2947 - accuracy: 0.8970 - val_loss: 0.3085 - val_accuracy: 0.8915\n",
            "Epoch 14/20\n",
            "1251/1251 [==============================] - 5s 4ms/step - loss: 0.2890 - accuracy: 0.9002 - val_loss: 0.3039 - val_accuracy: 0.8943\n",
            "Epoch 15/20\n",
            "1251/1251 [==============================] - 5s 4ms/step - loss: 0.2836 - accuracy: 0.9019 - val_loss: 0.2995 - val_accuracy: 0.8933\n",
            "Epoch 16/20\n",
            "1251/1251 [==============================] - 5s 4ms/step - loss: 0.2790 - accuracy: 0.9030 - val_loss: 0.2961 - val_accuracy: 0.8956\n",
            "Epoch 17/20\n",
            "1251/1251 [==============================] - 6s 5ms/step - loss: 0.2747 - accuracy: 0.9047 - val_loss: 0.2931 - val_accuracy: 0.8977\n",
            "Epoch 18/20\n",
            "1251/1251 [==============================] - 4s 4ms/step - loss: 0.2706 - accuracy: 0.9052 - val_loss: 0.2871 - val_accuracy: 0.8981\n",
            "Epoch 19/20\n",
            "1251/1251 [==============================] - 5s 4ms/step - loss: 0.2671 - accuracy: 0.9076 - val_loss: 0.2884 - val_accuracy: 0.8997\n",
            "Epoch 20/20\n",
            "1251/1251 [==============================] - 6s 5ms/step - loss: 0.2632 - accuracy: 0.9075 - val_loss: 0.2813 - val_accuracy: 0.9012\n"
          ]
        }
      ]
    },
    {
      "cell_type": "code",
      "source": [
        "history.params\n",
        "\n"
      ],
      "metadata": {
        "colab": {
          "base_uri": "https://localhost:8080/"
        },
        "id": "5rfkkFtHGLzy",
        "outputId": "e1439ba8-036a-4f1e-978c-1d2b4d5dab60"
      },
      "execution_count": null,
      "outputs": [
        {
          "output_type": "execute_result",
          "data": {
            "text/plain": [
              "{'verbose': 1, 'epochs': 20, 'steps': 1251}"
            ]
          },
          "metadata": {},
          "execution_count": 39
        }
      ]
    },
    {
      "cell_type": "code",
      "source": [
        "import pandas as pd\n",
        "import matplotlib.pyplot as plt\n",
        "plt.figure(figsize=(7,3))\n",
        "pd.DataFrame(history.history).plot(xlim=[0,20],ylim=[0,1],grid='True',\n",
        "                                   xlabel='epochs')"
      ],
      "metadata": {
        "colab": {
          "base_uri": "https://localhost:8080/",
          "height": 490
        },
        "id": "H0V_AQ-gGaYb",
        "outputId": "cd2bff71-5d64-4ae6-b2dc-1531ddaf642b"
      },
      "execution_count": null,
      "outputs": [
        {
          "output_type": "execute_result",
          "data": {
            "text/plain": [
              "<Axes: xlabel='epochs'>"
            ]
          },
          "metadata": {},
          "execution_count": 48
        },
        {
          "output_type": "display_data",
          "data": {
            "text/plain": [
              "<Figure size 700x300 with 0 Axes>"
            ]
          },
          "metadata": {}
        },
        {
          "output_type": "display_data",
          "data": {
            "text/plain": [
              "<Figure size 640x480 with 1 Axes>"
            ],
            "image/png": "[encoded data removed]"
          },
          "metadata": {}
        }
      ]
    },
    {
      "cell_type": "code",
      "source": [
        "#creating model_B\n",
        "tf.random.set_seed(42)\n",
        "\n",
        "model_B=tf.keras.Sequential([\n",
        "                            tf.keras.layers.Flatten(input_shape=[28,28]),\n",
        "                            tf.keras.layers.Dense(100,activation='relu'),\n",
        "                             tf.keras.layers.Dense(100,activation='relu'),\n",
        "                             tf.keras.layers.Dense(100,activation='relu'),\n",
        "                             tf.keras.layers.Dense(1,activation='sigmoid')\n",
        "                             ])"
      ],
      "metadata": {
        "id": "mTG1A6VFIdcr"
      },
      "execution_count": null,
      "outputs": []
    },
    {
      "cell_type": "code",
      "source": [
        "#compile the model_B\n",
        "model_B.compile(loss='binary_crossentropy',\n",
        "                optimizer=tf.keras.optimizers.SGD(learning_rate=0.001),\n",
        "                metrics=['accuracy'])"
      ],
      "metadata": {
        "id": "Xr0wuv14KIna"
      },
      "execution_count": null,
      "outputs": []
    },
    {
      "cell_type": "code",
      "source": [
        "#fitting the model_B\n",
        "model_B.fit(X_train_B,y_train_B,epochs=20,\n",
        "            validation_data=(X_valid_B,y_valid_B))"
      ],
      "metadata": {
        "colab": {
          "base_uri": "https://localhost:8080/"
        },
        "id": "lesp7FmpLDvi",
        "outputId": "9452108b-5463-4ae3-9f22-1a4c8743633d"
      },
      "execution_count": null,
      "outputs": [
        {
          "output_type": "stream",
          "name": "stdout",
          "text": [
            "Epoch 1/20\n",
            "7/7 [==============================] - 2s 87ms/step - loss: 0.7140 - accuracy: 0.3900 - val_loss: 0.7118 - val_accuracy: 0.3796\n",
            "Epoch 2/20\n",
            "7/7 [==============================] - 0s 28ms/step - loss: 0.7058 - accuracy: 0.4400 - val_loss: 0.7047 - val_accuracy: 0.4313\n",
            "Epoch 3/20\n",
            "7/7 [==============================] - 1s 112ms/step - loss: 0.6983 - accuracy: 0.4950 - val_loss: 0.6981 - val_accuracy: 0.4791\n",
            "Epoch 4/20\n",
            "7/7 [==============================] - 0s 33ms/step - loss: 0.6908 - accuracy: 0.5450 - val_loss: 0.6920 - val_accuracy: 0.5234\n",
            "Epoch 5/20\n",
            "7/7 [==============================] - 0s 29ms/step - loss: 0.6842 - accuracy: 0.5850 - val_loss: 0.6856 - val_accuracy: 0.5800\n",
            "Epoch 6/20\n",
            "7/7 [==============================] - 0s 29ms/step - loss: 0.6775 - accuracy: 0.6300 - val_loss: 0.6797 - val_accuracy: 0.6327\n",
            "Epoch 7/20\n",
            "7/7 [==============================] - 0s 33ms/step - loss: 0.6713 - accuracy: 0.6750 - val_loss: 0.6741 - val_accuracy: 0.6731\n",
            "Epoch 8/20\n",
            "7/7 [==============================] - 0s 32ms/step - loss: 0.6658 - accuracy: 0.6950 - val_loss: 0.6687 - val_accuracy: 0.7095\n",
            "Epoch 9/20\n",
            "7/7 [==============================] - 0s 29ms/step - loss: 0.6601 - accuracy: 0.7450 - val_loss: 0.6638 - val_accuracy: 0.7381\n",
            "Epoch 10/20\n",
            "7/7 [==============================] - 0s 28ms/step - loss: 0.6549 - accuracy: 0.7550 - val_loss: 0.6589 - val_accuracy: 0.7607\n",
            "Epoch 11/20\n",
            "7/7 [==============================] - 0s 27ms/step - loss: 0.6494 - accuracy: 0.7900 - val_loss: 0.6541 - val_accuracy: 0.7784\n",
            "Epoch 12/20\n",
            "7/7 [==============================] - 0s 26ms/step - loss: 0.6441 - accuracy: 0.8000 - val_loss: 0.6492 - val_accuracy: 0.7971\n",
            "Epoch 13/20\n",
            "7/7 [==============================] - 0s 27ms/step - loss: 0.6388 - accuracy: 0.8250 - val_loss: 0.6447 - val_accuracy: 0.8104\n",
            "Epoch 14/20\n",
            "7/7 [==============================] - 0s 30ms/step - loss: 0.6337 - accuracy: 0.8450 - val_loss: 0.6402 - val_accuracy: 0.8193\n",
            "Epoch 15/20\n",
            "7/7 [==============================] - 0s 32ms/step - loss: 0.6289 - accuracy: 0.8500 - val_loss: 0.6358 - val_accuracy: 0.8341\n",
            "Epoch 16/20\n",
            "7/7 [==============================] - 0s 31ms/step - loss: 0.6241 - accuracy: 0.8500 - val_loss: 0.6313 - val_accuracy: 0.8444\n",
            "Epoch 17/20\n",
            "7/7 [==============================] - 0s 31ms/step - loss: 0.6193 - accuracy: 0.8600 - val_loss: 0.6271 - val_accuracy: 0.8488\n",
            "Epoch 18/20\n",
            "7/7 [==============================] - 0s 32ms/step - loss: 0.6146 - accuracy: 0.8600 - val_loss: 0.6225 - val_accuracy: 0.8641\n",
            "Epoch 19/20\n",
            "7/7 [==============================] - 0s 29ms/step - loss: 0.6099 - accuracy: 0.8700 - val_loss: 0.6180 - val_accuracy: 0.8725\n",
            "Epoch 20/20\n",
            "7/7 [==============================] - 0s 31ms/step - loss: 0.6053 - accuracy: 0.8800 - val_loss: 0.6137 - val_accuracy: 0.8838\n"
          ]
        },
        {
          "output_type": "execute_result",
          "data": {
            "text/plain": [
              "<keras.src.callbacks.History at 0x7ec889a19a20>"
            ]
          },
          "metadata": {},
          "execution_count": 53
        }
      ]
    },
    {
      "cell_type": "code",
      "source": [
        "#evaluating model_B\n",
        "model_B.evaluate(X_test_B,y_test_B)"
      ],
      "metadata": {
        "colab": {
          "base_uri": "https://localhost:8080/"
        },
        "id": "DoMir5_XLld_",
        "outputId": "92c8319c-314e-416f-aa23-d5787e87a155"
      },
      "execution_count": null,
      "outputs": [
        {
          "output_type": "stream",
          "name": "stdout",
          "text": [
            "63/63 [==============================] - 0s 3ms/step - loss: 0.6160 - accuracy: 0.8745\n"
          ]
        },
        {
          "output_type": "execute_result",
          "data": {
            "text/plain": [
              "[0.6160337328910828, 0.8744999766349792]"
            ]
          },
          "metadata": {},
          "execution_count": 55
        }
      ]
    },
    {
      "cell_type": "code",
      "source": [
        "#Model B reaches 91.85% accuracy on the test set. Now let's try reusing the pretrained model A.\n",
        "# To not affect the actual model_A we use clone method to copy it\n",
        "\n",
        "model_A_clone=tf.keras.models.clone_model(model_A)\n",
        "model_A_clone.set_weights(model_A.get_weights())"
      ],
      "metadata": {
        "id": "i34Vpc5kMPsy"
      },
      "execution_count": null,
      "outputs": []
    },
    {
      "cell_type": "code",
      "source": [
        "#creating model_B_on_A just like in the previous cell\n",
        "\n",
        "model_B_on_A=tf.keras.Sequential(model_A_clone.layers[:-1])\n",
        "model_B_on_A.add(tf.keras.layers.Dense(1,activation='sigmoid'))"
      ],
      "metadata": {
        "id": "QV_bgHXYM7jd"
      },
      "execution_count": null,
      "outputs": []
    },
    {
      "cell_type": "code",
      "source": [
        "optimizer=tf.keras.optimizers.SGD(learning_rate=0.001)\n",
        "model_B_on_A.compile(loss='binary_crossentropy',\n",
        "                     optimizer=optimizer,\n",
        "                     metrics=['accuracy'])"
      ],
      "metadata": {
        "id": "M1aruS5_Pt2q"
      },
      "execution_count": null,
      "outputs": []
    },
    {
      "cell_type": "markdown",
      "source": [
        "###We are going to train model_B_on_A with model_A wights and without and see the result"
      ],
      "metadata": {
        "id": "5OtMlivwRLrk"
      }
    },
    {
      "cell_type": "code",
      "source": [
        "for layer in model_B_on_A.layers[:-1]:\n",
        "  layer.trainable=False"
      ],
      "metadata": {
        "id": "sSUemUnWQVSX"
      },
      "execution_count": null,
      "outputs": []
    },
    {
      "cell_type": "code",
      "source": [
        "history=model_B_on_A.fit(X_train_B,y_train_B,epochs=20,\n",
        "                       validation_data=(X_valid_B,y_valid_B))"
      ],
      "metadata": {
        "colab": {
          "base_uri": "https://localhost:8080/"
        },
        "id": "XcENSb25Qt1P",
        "outputId": "4d2bd8f9-07a0-4058-93da-8fdd2a8df883"
      },
      "execution_count": null,
      "outputs": [
        {
          "output_type": "stream",
          "name": "stdout",
          "text": [
            "Epoch 1/20\n",
            "7/7 [==============================] - 1s 60ms/step - loss: 1.4428 - accuracy: 0.1150 - val_loss: 1.3981 - val_accuracy: 0.1265\n",
            "Epoch 2/20\n",
            "7/7 [==============================] - 0s 25ms/step - loss: 1.3912 - accuracy: 0.1000 - val_loss: 1.3595 - val_accuracy: 0.1137\n",
            "Epoch 3/20\n",
            "7/7 [==============================] - 0s 29ms/step - loss: 1.3496 - accuracy: 0.1200 - val_loss: 1.3440 - val_accuracy: 0.1192\n",
            "Epoch 4/20\n",
            "7/7 [==============================] - 0s 26ms/step - loss: 1.2949 - accuracy: 0.1150 - val_loss: 1.3040 - val_accuracy: 0.1231\n",
            "Epoch 5/20\n",
            "7/7 [==============================] - 0s 28ms/step - loss: 1.2618 - accuracy: 0.1350 - val_loss: 1.2570 - val_accuracy: 0.1270\n",
            "Epoch 6/20\n",
            "7/7 [==============================] - 0s 31ms/step - loss: 1.2231 - accuracy: 0.1350 - val_loss: 1.2173 - val_accuracy: 0.1349\n",
            "Epoch 7/20\n",
            "7/7 [==============================] - 0s 35ms/step - loss: 1.1831 - accuracy: 0.1350 - val_loss: 1.1797 - val_accuracy: 0.1502\n",
            "Epoch 8/20\n",
            "7/7 [==============================] - 0s 33ms/step - loss: 1.1595 - accuracy: 0.1550 - val_loss: 1.1463 - val_accuracy: 0.1590\n",
            "Epoch 9/20\n",
            "7/7 [==============================] - 0s 30ms/step - loss: 1.1197 - accuracy: 0.1650 - val_loss: 1.1179 - val_accuracy: 0.1635\n",
            "Epoch 10/20\n",
            "7/7 [==============================] - 0s 29ms/step - loss: 1.0859 - accuracy: 0.1650 - val_loss: 1.0960 - val_accuracy: 0.1861\n",
            "Epoch 11/20\n",
            "7/7 [==============================] - 0s 32ms/step - loss: 1.0568 - accuracy: 0.1700 - val_loss: 1.0651 - val_accuracy: 0.2019\n",
            "Epoch 12/20\n",
            "7/7 [==============================] - 0s 30ms/step - loss: 1.0243 - accuracy: 0.1950 - val_loss: 1.0344 - val_accuracy: 0.2191\n",
            "Epoch 13/20\n",
            "7/7 [==============================] - 0s 58ms/step - loss: 0.9929 - accuracy: 0.2050 - val_loss: 1.0225 - val_accuracy: 0.2787\n",
            "Epoch 14/20\n",
            "7/7 [==============================] - 0s 28ms/step - loss: 0.9693 - accuracy: 0.2350 - val_loss: 0.9944 - val_accuracy: 0.2959\n",
            "Epoch 15/20\n",
            "7/7 [==============================] - 0s 31ms/step - loss: 0.9459 - accuracy: 0.2900 - val_loss: 0.9545 - val_accuracy: 0.2605\n",
            "Epoch 16/20\n",
            "7/7 [==============================] - 0s 26ms/step - loss: 0.9164 - accuracy: 0.2650 - val_loss: 0.9294 - val_accuracy: 0.2811\n",
            "Epoch 17/20\n",
            "7/7 [==============================] - 0s 32ms/step - loss: 0.8904 - accuracy: 0.2800 - val_loss: 0.9171 - val_accuracy: 0.3555\n",
            "Epoch 18/20\n",
            "7/7 [==============================] - 0s 49ms/step - loss: 0.8692 - accuracy: 0.3500 - val_loss: 0.8807 - val_accuracy: 0.3082\n",
            "Epoch 19/20\n",
            "7/7 [==============================] - 0s 62ms/step - loss: 0.8435 - accuracy: 0.3100 - val_loss: 0.8603 - val_accuracy: 0.3520\n",
            "Epoch 20/20\n",
            "7/7 [==============================] - 0s 64ms/step - loss: 0.8253 - accuracy: 0.3600 - val_loss: 0.8398 - val_accuracy: 0.3663\n"
          ]
        }
      ]
    },
    {
      "cell_type": "markdown",
      "source": [
        "###Without the accuracy droped drastically"
      ],
      "metadata": {
        "id": "et3on1nyRsnF"
      }
    },
    {
      "cell_type": "code",
      "source": [
        "for layer in model_B_on_A.layers[:-1]:\n",
        "    layer.trainable = True\n",
        "\n",
        "optimizer = tf.keras.optimizers.SGD(learning_rate=0.001)\n",
        "model_B_on_A.compile(loss=\"binary_crossentropy\", optimizer=optimizer,\n",
        "                     metrics=[\"accuracy\"])\n",
        "history = model_B_on_A.fit(X_train_B, y_train_B, epochs=16,\n",
        "                           validation_data=(X_valid_B, y_valid_B))\n"
      ],
      "metadata": {
        "id": "A-8S0iWmR6Vj"
      },
      "execution_count": null,
      "outputs": []
    },
    {
      "cell_type": "code",
      "source": [
        "for layer in model_B_on_A.layers[:-1]:\n",
        "  layer.trainable=True"
      ],
      "metadata": {
        "id": "Iq1k0rfmR1Wg"
      },
      "execution_count": null,
      "outputs": []
    },
    {
      "cell_type": "code",
      "source": [
        "optimizer=tf.keras.optimizers.SGD(learning_rate=0.001)\n",
        "model_B_on_A.compile(optimizer=optimizer,\n",
        "                     loss='binary_crossentropy',\n",
        "                     metrics=['accuracy'])\n",
        "\n",
        "history=model_B_on_A.fit(X_train_B,y_train_B,epochs=20,\n",
        "                         validation_data=(X_valid_B,y_valid_B))"
      ],
      "metadata": {
        "colab": {
          "base_uri": "https://localhost:8080/"
        },
        "id": "bpP9VloYSKdC",
        "outputId": "0a02c512-e26f-4d7d-935a-4b3a6adce062"
      },
      "execution_count": null,
      "outputs": [
        {
          "output_type": "stream",
          "name": "stdout",
          "text": [
            "Epoch 1/20\n",
            "7/7 [==============================] - 1s 92ms/step - loss: 0.7574 - accuracy: 0.4400 - val_loss: 0.7127 - val_accuracy: 0.5367\n",
            "Epoch 2/20\n",
            "7/7 [==============================] - 0s 29ms/step - loss: 0.6461 - accuracy: 0.5800 - val_loss: 0.6090 - val_accuracy: 0.6928\n",
            "Epoch 3/20\n",
            "7/7 [==============================] - 0s 28ms/step - loss: 0.5544 - accuracy: 0.7300 - val_loss: 0.5537 - val_accuracy: 0.7233\n",
            "Epoch 4/20\n",
            "7/7 [==============================] - 0s 28ms/step - loss: 0.4820 - accuracy: 0.8200 - val_loss: 0.4932 - val_accuracy: 0.8242\n",
            "Epoch 5/20\n",
            "7/7 [==============================] - 0s 32ms/step - loss: 0.4352 - accuracy: 0.8700 - val_loss: 0.4482 - val_accuracy: 0.8685\n",
            "Epoch 6/20\n",
            "7/7 [==============================] - 0s 32ms/step - loss: 0.4004 - accuracy: 0.8750 - val_loss: 0.4173 - val_accuracy: 0.8877\n",
            "Epoch 7/20\n",
            "7/7 [==============================] - 0s 32ms/step - loss: 0.3698 - accuracy: 0.9000 - val_loss: 0.3965 - val_accuracy: 0.8946\n",
            "Epoch 8/20\n",
            "7/7 [==============================] - 0s 32ms/step - loss: 0.3549 - accuracy: 0.9250 - val_loss: 0.3721 - val_accuracy: 0.9069\n",
            "Epoch 9/20\n",
            "7/7 [==============================] - 0s 27ms/step - loss: 0.3282 - accuracy: 0.9500 - val_loss: 0.3530 - val_accuracy: 0.9158\n",
            "Epoch 10/20\n",
            "7/7 [==============================] - 0s 25ms/step - loss: 0.3114 - accuracy: 0.9500 - val_loss: 0.3386 - val_accuracy: 0.9232\n",
            "Epoch 11/20\n",
            "7/7 [==============================] - 0s 31ms/step - loss: 0.2976 - accuracy: 0.9450 - val_loss: 0.3248 - val_accuracy: 0.9281\n",
            "Epoch 12/20\n",
            "7/7 [==============================] - 0s 30ms/step - loss: 0.2842 - accuracy: 0.9550 - val_loss: 0.3123 - val_accuracy: 0.9330\n",
            "Epoch 13/20\n",
            "7/7 [==============================] - 0s 26ms/step - loss: 0.2720 - accuracy: 0.9500 - val_loss: 0.3040 - val_accuracy: 0.9325\n",
            "Epoch 14/20\n",
            "7/7 [==============================] - 0s 31ms/step - loss: 0.2644 - accuracy: 0.9500 - val_loss: 0.2953 - val_accuracy: 0.9345\n",
            "Epoch 15/20\n",
            "7/7 [==============================] - 0s 31ms/step - loss: 0.2556 - accuracy: 0.9500 - val_loss: 0.2858 - val_accuracy: 0.9375\n",
            "Epoch 16/20\n",
            "7/7 [==============================] - 0s 31ms/step - loss: 0.2468 - accuracy: 0.9600 - val_loss: 0.2802 - val_accuracy: 0.9375\n",
            "Epoch 17/20\n",
            "7/7 [==============================] - 0s 31ms/step - loss: 0.2412 - accuracy: 0.9600 - val_loss: 0.2722 - val_accuracy: 0.9424\n",
            "Epoch 18/20\n",
            "7/7 [==============================] - 0s 26ms/step - loss: 0.2349 - accuracy: 0.9650 - val_loss: 0.2654 - val_accuracy: 0.9409\n",
            "Epoch 19/20\n",
            "7/7 [==============================] - 0s 25ms/step - loss: 0.2278 - accuracy: 0.9600 - val_loss: 0.2598 - val_accuracy: 0.9414\n",
            "Epoch 20/20\n",
            "7/7 [==============================] - 0s 30ms/step - loss: 0.2226 - accuracy: 0.9550 - val_loss: 0.2583 - val_accuracy: 0.9434\n"
          ]
        }
      ]
    },
    {
      "cell_type": "code",
      "source": [
        "model_B_on_A.evaluate(X_test_B, y_test_B)"
      ],
      "metadata": {
        "colab": {
          "base_uri": "https://localhost:8080/"
        },
        "id": "a_GOF_S8TvMi",
        "outputId": "9f2307cc-e8ea-4666-e8e0-737e69591cfc"
      },
      "execution_count": null,
      "outputs": [
        {
          "output_type": "stream",
          "name": "stdout",
          "text": [
            "63/63 [==============================] - 0s 3ms/step - loss: 0.2684 - accuracy: 0.9315\n"
          ]
        },
        {
          "output_type": "execute_result",
          "data": {
            "text/plain": [
              "[0.2684090733528137, 0.9315000176429749]"
            ]
          },
          "metadata": {},
          "execution_count": 76
        }
      ]
    },
    {
      "cell_type": "markdown",
      "source": [
        "### Very big improvement on model_B_on_A for reusing model_A with the weights"
      ],
      "metadata": {
        "id": "10M3pTq2SKZy"
      }
    }
  ]
}